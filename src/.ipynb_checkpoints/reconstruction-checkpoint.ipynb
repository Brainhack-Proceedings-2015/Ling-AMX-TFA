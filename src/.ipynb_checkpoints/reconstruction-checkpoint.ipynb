{
 "cells": [
  {
   "cell_type": "code",
   "execution_count": 16,
   "metadata": {
    "collapsed": true
   },
   "outputs": [],
   "source": [
    "\"\"\"\n",
    "    1. Given Alpha prameters, we need to reconstruct pictures. \n",
    "    2. Evaluation by comparing with observed cross-image correlation\n",
    "\"\"\"\n",
    "def readData(string):\n",
    "    mat = sio.loadmat(string)\n",
    "    header = mat.keys()\n",
    "    experiment = np.array([[a[1][0][0],a[3][0][0],a[4][0][0]] for a in mat[header[0]][0]])\n",
    "    loc = (mat[header[3]])[0][0][7]\n",
    "    rawdata = np.array([s[0] for s in mat[header[5]][:,0]])\n",
    "    ##preprocessing\n",
    "    ground_mean = np.mean(rawdata, axis=0)\n",
    "    ground_std = np.std(rawdata, axis =0)\n",
    "    a = (rawdata-ground_mean)/ground_std\n",
    "    bound = np.max(abs(a))\n",
    "    scale_data = a/bound\n",
    "    return (scale_data, loc, experiment)\n",
    " "
   ]
  },
  {
   "cell_type": "code",
   "execution_count": 29,
   "metadata": {
    "collapsed": false
   },
   "outputs": [],
   "source": [
    "from __future__ import division \n",
    "import numpy as np\n",
    "import seaborn as sns\n",
    "import scipy.io as sio\n",
    "import pandas as pd\n",
    "import matplotlib as mpl\n",
    "import matplotlib.pyplot as plt\n",
    "import pickle\n",
    "#import TFA\n",
    "%matplotlib inline\n",
    "def RBF(r, mu, Lambda):\n",
    "    '''\n",
    "    RBF kernel function described in equation (1)\n",
    "    ----------------------\n",
    "    Return:\n",
    "    scalar \n",
    "    '''\n",
    "    assert len(r)==len(mu)==3\n",
    "    return np.exp((-(np.dot(np.transpose(r-mu), r-mu))/(np.exp(Lambda))))"
   ]
  },
  {
   "cell_type": "code",
   "execution_count": 84,
   "metadata": {
    "collapsed": false
   },
   "outputs": [
    {
     "data": {
      "text/plain": [
       "\"\\nmu = np.ones((5,3))\\nl = (np.arange(5)+1)*.01\\nw = np.ones((10,5))*.2\\nv = np.arange(30).reshape((10,3))\\nalpha = {'mu_w_n_k':w, 'mu_mu_k':mu,'mu_lambda_k': l}\\nF = F_posterior(alpha, v)\\nhaha = act_mat(alpha,F)\\n#map_mat(haha)\\nY, loc,experiment  = readData('../data/data-science-P1.mat')\\nloc0 = loc[:10,]\\nmap_mat(haha,loc0,9,1)\\n\""
      ]
     },
     "execution_count": 84,
     "metadata": {},
     "output_type": "execute_result"
    }
   ],
   "source": [
    "'''\n",
    "    mu = np.ones((5,3))\n",
    "    l = (np.arange(5)+1)*.01\n",
    "    w = np.ones((10,5))*.2\n",
    "    v = np.arange(30).reshape((10,3))\n",
    "    alpha = {'mu_w_n_k':w, 'mu_mu_k':mu,'mu_lambda_k': l}\n",
    "    F = F_posterior(alpha, v)\n",
    "    haha = act_mat(alpha,F)\n",
    "    #map_mat(haha)\n",
    "    Y, loc,experiment  = readData('../data/data-science-P1.mat')\n",
    "    loc0 = loc[:10,]\n",
    "    map_mat(haha,loc0,9,1)\n",
    "'''"
   ]
  },
  {
   "cell_type": "code",
   "execution_count": 6,
   "metadata": {
    "collapsed": true
   },
   "outputs": [],
   "source": [
    "def F_posterior(alpha, voxel):\n",
    "    '''\n",
    "    F_posterior matrix \n",
    "    --alpha: dictionary, format can be referred from TFA\n",
    "    --voxel: 2d array, V*D, represent all voxels' location\n",
    "    --return: 2d array, K*V\n",
    "    '''\n",
    "    mu_mat = alpha['mu_mu_k']\n",
    "    lambda_array = alpha['mu_lambda_k']\n",
    "    K = mu_mat.shape[0]\n",
    "    V = voxel.shape[0]\n",
    "    F_mat = np.empty((K, V))\n",
    "    for i in np.arange(K):\n",
    "        for j in np.arange(V):\n",
    "            F_mat[i,j] = RBF(voxel[j],mu_mat[i],lambda_array[i])\n",
    "    return F_mat"
   ]
  },
  {
   "cell_type": "code",
   "execution_count": 7,
   "metadata": {
    "collapsed": true
   },
   "outputs": [],
   "source": [
    "def act_mat(alpha, F_mat):\n",
    "    '''\n",
    "    activation_map matrix\n",
    "    ---alpha: dictionary, format can be refered from TEA\n",
    "    ---F_mat: 2d array, K*V, returned value from F_posterior function\n",
    "    ---return: 2d array, N*V.\n",
    "    '''\n",
    "    W = alpha['mu_w_n_k']\n",
    "    return W.dot(F_mat)"
   ]
  },
  {
   "cell_type": "code",
   "execution_count": 107,
   "metadata": {
    "collapsed": true
   },
   "outputs": [],
   "source": [
    "def map_mat(data, loc, i, slice,lower,upper):\n",
    "    draw3d= data[i]\n",
    "    draw2d = draw3d[loc[:,2]==slice]\n",
    "    xy = (loc[loc[:,2]==slice,:2])\n",
    "    drawmat = np.empty((64,64))\n",
    "    drawmat[:] = np.nan\n",
    "    count = 0\n",
    "    for idx in xy:\n",
    "        drawmat[idx[0],idx[1]] = draw2d[count]\n",
    "        count+=1      \n",
    "    masked_array = np.ma.array (drawmat, mask=np.isnan(drawmat))\n",
    "    cmap = plt.cm.rainbow\n",
    "    #cmap ='cubehelix'\n",
    "    cmap.set_bad('w',1.)\n",
    "    cax= plt.imshow((masked_array), interpolation='nearest', cmap=cmap,vmin=lower, vmax=upper)\n",
    "\n",
    "\n",
    "     # Add colorbar, make sure to specify tick locations to match desired ticklabels\n",
    "    cbar = plt.colorbar(cax, ticks=[lower, .5*(lower+upper), upper],orientation='horizontal')\n",
    "    plt.xticks([])\n",
    "    plt.yticks([])\n",
    "    plt.ylabel(slice)"
   ]
  },
  {
   "cell_type": "code",
   "execution_count": 58,
   "metadata": {
    "collapsed": true
   },
   "outputs": [],
   "source": [
    "def nine_map(act_val, loc, lower, upper):\n",
    "    fig = plt.figure(1)\n",
    "    fig.add_subplot(331)\n",
    "    map_mat(act_val,loc,1,1, lower, upper)\n",
    "    fig.add_subplot(332)\n",
    "    map_mat(act_val,loc,1,2, lower, upper)\n",
    "    fig.add_subplot(333)\n",
    "    map_mat(act_val,loc,1,3, lower, upper)\n",
    "\n",
    "    fig.add_subplot(334)\n",
    "    map_mat(act_val,loc,1,4, lower, upper)\n",
    "    fig.add_subplot(335)\n",
    "    map_mat(act_val,loc,1,5, lower, upper)\n",
    "    fig.add_subplot(336)\n",
    "    map_mat(act_val,loc,1,6, lower, upper)\n",
    "\n",
    "    fig.add_subplot(337)\n",
    "    map_mat(act_val,loc,1,7, lower, upper)\n",
    "    fig.add_subplot(338)\n",
    "    map_mat(act_val,loc,1,8, lower, upper)\n",
    "    fig.add_subplot(339)\n",
    "    map_mat(act_val,loc,1,9, lower, upper)"
   ]
  },
  {
   "cell_type": "code",
   "execution_count": 112,
   "metadata": {
    "collapsed": false
   },
   "outputs": [],
   "source": [
    "def main():\n",
    "    with open('../data/alpha.pickle', 'rb') as handle:\n",
    "        alpha = pickle.load(handle)\n",
    "    Y, loc,experiment  = readData('../data/data-science-P1.mat')\n",
    "    F_mat= F_posterior(alpha, loc)\n",
    "    act_val= act_mat(alpha,F_mat)\n",
    "    low_bound = min(np.min(Y),np.min(act_val))\n",
    "    upper_bound = max(np.max(Y),np.max(act_val))\n",
    "\n",
    "    #nine_map(act_val, loc, low_bound, upper_bound)\n",
    "    #plt.savefig(\"../results/new_reconstruction_refrigerator.png\")\n",
    "    nine_map(Y,loc, low_bound, upper_bound)\n",
    "    plt.savefig(\"../results/new_refrigerator.png\")"
   ]
  },
  {
   "cell_type": "code",
   "execution_count": 113,
   "metadata": {
    "collapsed": false
   },
   "outputs": [
    {
     "data": {
      "image/png": "[encoded data removed]",
      "text/plain": [
       "<matplotlib.figure.Figure at 0x10b8e6950>"
      ]
     },
     "metadata": {},
     "output_type": "display_data"
    }
   ],
   "source": [
    "if __name__ == \"__main__\":\n",
    "    main()"
   ]
  }
 ],
 "metadata": {
  "kernelspec": {
   "display_name": "Python 2",
   "language": "python",
   "name": "python2"
  },
  "language_info": {
   "codemirror_mode": {
    "name": "ipython",
    "version": 2
   },
   "file_extension": ".py",
   "mimetype": "text/x-python",
   "name": "python",
   "nbconvert_exporter": "python",
   "pygments_lexer": "ipython2",
   "version": "2.7.10"
  }
 },
 "nbformat": 4,
 "nbformat_minor": 0
}
