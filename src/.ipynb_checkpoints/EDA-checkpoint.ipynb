{
 "cells": [
  {
   "cell_type": "code",
   "execution_count": 338,
   "metadata": {
    "collapsed": true
   },
   "outputs": [],
   "source": [
    "import numpy as np\n",
    "import seaborn as sns\n",
    "import scipy.io as sio\n",
    "import pandas as pd\n",
    "import matplotlib as mpl\n",
    "import matplotlib.pyplot as plt\n",
    "%matplotlib inline\n",
    "def PSC(df):\n",
    "    '''\n",
    "    Function to calculate Percent Signal Change(PSC)\n",
    "    ----\n",
    "    df: pandas DataFrame. voxel number times time series points\n",
    "    ----\n",
    "    Each voxels minus its corresponding mean baseline, then divided by mean baseline to get the relative active measurement\n",
    "    ----\n",
    "    Return: pandas DataFrame. PSC for each voxels, still voxel number tims time series points\n",
    "    '''\n",
    "    baseline = np.mean(df,axis=1)\n",
    "    baseline = baseline[:,np.newaxis]\n",
    "    psc = (np.array(fdata)-baseline)/baseline\n",
    "    pscdf = pd.DataFrame(psc)\n",
    "    return pscdf\n",
    "\n",
    "def RBF(r, mu, width):\n",
    "    '''\n",
    "    Function for Gaussian radial basis functions. \n",
    "    ---\n",
    "    r: numpy array.\n",
    "    ---\n",
    "    mu: numpy array, it should be the same type as r.\n",
    "    ---\n",
    "    width: number. Because we assume basis function is spherical.\n",
    "    '''\n",
    "    if len(r.shape) > 1:\n",
    "        result = np.zeros(r.shape[0])\n",
    "        for i in np.arange(r.shape[0]):\n",
    "            dif = r[i] - mu[i]\n",
    "            result[i] = np.exp(-dif.dot(dif)/np.exp(np.float(width[i])))\n",
    "    else:\n",
    "        dif = r - mu\n",
    "        result = np.exp(-dif.dot(dif)/np.exp(np.float(width)))\n",
    "    return result"
   ]
  },
  {
   "cell_type": "code",
   "execution_count": 341,
   "metadata": {
    "collapsed": false
   },
   "outputs": [
    {
     "data": {
      "text/plain": [
       "<matplotlib.image.AxesImage at 0x103910850>"
      ]
     },
     "execution_count": 341,
     "metadata": {},
     "output_type": "execute_result"
    },
    {
     "data": {
      "image/png": "[encoded data removed]",
      "text/plain": [
       "<matplotlib.figure.Figure at 0x1299f46d0>"
      ]
     },
     "metadata": {},
     "output_type": "display_data"
    }
   ],
   "source": [
    "mat = sio.loadmat('../data/data-science-P1.mat')\n",
    "header = mat.keys()\n",
    "experiment = np.array([[a[1][0][0],a[3][0][0],a[4][0][0]] for a in mat[header[0]][0]])\n",
    "loc = (mat[header[3]])[0][0][7]\n",
    "data = np.array([s[0] for s in mat[header[5]][:,0]])\n",
    "draw3d= data[0]\n",
    "draw2d = draw3d[loc[:,2]==1]\n",
    "x= (loc[loc[:,2]==1,0])\n",
    "y = (loc[loc[:,2]==1,1])\n",
    "xy = (loc[loc[:,2]==1,:2])\n",
    "drawmat = np.empty((64,64))\n",
    "drawmat[:] = np.nan\n",
    "#drawmat = np.zeros((64,50))\n",
    "count = 0\n",
    "for idx in xy:\n",
    "        drawmat[idx[0],idx[1]] = draw2d[count]\n",
    "        count+=1      \n",
    "masked_array = np.ma.array (drawmat, mask=np.isnan(drawmat))\n",
    "cmap = plt.cm.rainbow\n",
    "cmap.set_bad('w',1.)\n",
    "plt.imshow(masked_array, interpolation='nearest', cmap=cmap)"
   ]
  },
  {
   "cell_type": "code",
   "execution_count": 107,
   "metadata": {
    "collapsed": false
   },
   "outputs": [],
   "source": [
    "#a = PSC(draw2d.shape)"
   ]
  },
  {
   "cell_type": "code",
   "execution_count": 38,
   "metadata": {
    "collapsed": false
   },
   "outputs": [
    {
     "data": {
      "text/plain": [
       "array([[-0.0268068 ,  0.68483384,  0.9132587 , ..., -0.67066825,\n",
       "        -1.45709228, -0.85008493],\n",
       "       [ 0.91838692,  1.04450499,  0.77500801, ..., -1.82493971,\n",
       "        -1.49682133, -1.52025864],\n",
       "       [ 0.40446271,  0.49151523,  0.32273739, ..., -0.03602276,\n",
       "         0.67378845, -0.55942959],\n",
       "       ..., \n",
       "       [-0.80578564, -0.80386184, -0.56857835, ...,  0.36546083,\n",
       "         0.10383134,  0.97633791],\n",
       "       [ 0.64031084,  0.57636939,  0.50777017, ...,  1.01490866,\n",
       "         0.88595603,  0.39234203],\n",
       "       [ 0.53591841,  0.83507612,  0.46409542, ...,  0.09621749,\n",
       "        -0.17719461,  0.42357178]])"
      ]
     },
     "execution_count": 38,
     "metadata": {},
     "output_type": "execute_result"
    }
   ],
   "source": [
    "data"
   ]
  },
  {
   "cell_type": "code",
   "execution_count": 302,
   "metadata": {
    "collapsed": false
   },
   "outputs": [],
   "source": [
    "uniq_pair = experiment[experiment[:,2]==1,:2]\n",
    "mean_data = np.zeros((60,21764))\n",
    "for i in np.arange(60):\n",
    "#experiment[np.where(experiment[:,:2]==uniq_pair[0,:]),:]\n",
    "    mask =(experiment[:,:2]==uniq_pair[i,:]).all(1)\n",
    "    subdata = data[mask,:]\n",
    "    mean_vec = np.mean(subdata,axis=0)\n",
    "    mean_data[i,:] = mean_vec"
   ]
  },
  {
   "cell_type": "code",
   "execution_count": 353,
   "metadata": {
    "collapsed": false
   },
   "outputs": [
    {
     "data": {
      "text/plain": [
       "(360, 21764)"
      ]
     },
     "execution_count": 353,
     "metadata": {},
     "output_type": "execute_result"
    }
   ],
   "source": [
    "ground_mean = np.mean(data, axis=0)\n",
    "bstd = np.std(data, axis =0)\n",
    "a = (a-ground_mean)/bstd\n",
    "a\n",
    "#within_mean = np.mean(a[0,:])\n",
    "#within_std = np.std(a[0,:])\n",
    "#z_value = (a[0,:]-within_mean)/within_std"
   ]
  },
  {
   "cell_type": "code",
   "execution_count": null,
   "metadata": {
    "collapsed": true
   },
   "outputs": [],
   "source": []
  },
  {
   "cell_type": "code",
   "execution_count": 346,
   "metadata": {
    "collapsed": false
   },
   "outputs": [
    {
     "data": {
      "text/plain": [
       "<matplotlib.axes._subplots.AxesSubplot at 0x1085d55d0>"
      ]
     },
     "execution_count": 346,
     "metadata": {},
     "output_type": "execute_result"
    },
    {
     "data": {
      "image/png": "[encoded data removed]",
      "text/plain": [
       "<matplotlib.figure.Figure at 0x11137f1d0>"
      ]
     },
     "metadata": {},
     "output_type": "display_data"
    }
   ],
   "source": [
    "sns.distplot(data.reshape((360*21764)))"
   ]
  },
  {
   "cell_type": "code",
   "execution_count": 277,
   "metadata": {
    "collapsed": false
   },
   "outputs": [
    {
     "data": {
      "text/plain": [
       "array([u'refrigerator', u'barn', u'bell', u'key', u'window',\n",
       "       u'screwdriver', u'church', u'desk', u'cow', u'knife', u'train',\n",
       "       u'beetle', u'tomato', u'foot', u'eye', u'dresser', u'spoon',\n",
       "       u'truck', u'apartment', u'pants', u'ant', u'saw', u'coat',\n",
       "       u'closet', u'dress', u'igloo', u'skirt', u'corn', u'airplane',\n",
       "       u'car', u'bear', u'celery', u'butterfly', u'shirt', u'arm', u'arch',\n",
       "       u'pliers', u'glass', u'house', u'cup', u'horse', u'bottle',\n",
       "       u'chisel', u'cat', u'bee', u'lettuce', u'bicycle', u'hand',\n",
       "       u'chair', u'hammer', u'door', u'leg', u'carrot', u'watch', u'table',\n",
       "       u'chimney', u'bed', u'fly', u'dog', u'telephone', u'train', u'hand',\n",
       "       u'cat', u'car', u'beetle', u'saw', u'dog', u'arm', u'bottle',\n",
       "       u'hammer', u'spoon', u'barn', u'key', u'igloo', u'apartment',\n",
       "       u'chisel', u'window', u'arch', u'coat', u'cow', u'telephone',\n",
       "       u'cup', u'shirt', u'carrot', u'corn', u'desk', u'butterfly',\n",
       "       u'pants', u'leg', u'chair', u'bell', u'pliers', u'church',\n",
       "       u'chimney', u'door', u'bear', u'skirt', u'ant', u'horse',\n",
       "       u'screwdriver', u'table', u'bee', u'dress', u'bed', u'dresser',\n",
       "       u'truck', u'fly', u'foot', u'house', u'glass', u'celery', u'closet',\n",
       "       u'airplane', u'refrigerator', u'eye', u'tomato', u'knife', u'watch',\n",
       "       u'bicycle', u'lettuce', u'dress', u'bear', u'bicycle', u'horse',\n",
       "       u'saw', u'door', u'shirt', u'cow', u'knife', u'truck', u'chair',\n",
       "       u'butterfly', u'house', u'arm', u'leg', u'key', u'refrigerator',\n",
       "       u'spoon', u'apartment', u'bottle', u'watch', u'table', u'bee',\n",
       "       u'lettuce', u'church', u'airplane', u'fly', u'screwdriver',\n",
       "       u'dresser', u'window', u'carrot', u'car', u'foot', u'chimney',\n",
       "       u'celery', u'closet', u'cat', u'chisel', u'hammer', u'beetle',\n",
       "       u'skirt', u'barn', u'cup', u'pants', u'bed', u'dog', u'ant',\n",
       "       u'train', u'arch', u'desk', u'hand', u'corn', u'bell', u'tomato',\n",
       "       u'igloo', u'eye', u'telephone', u'glass', u'pliers', u'coat',\n",
       "       u'airplane', u'pants', u'closet', u'screwdriver', u'dresser',\n",
       "       u'refrigerator', u'telephone', u'lettuce', u'barn', u'table',\n",
       "       u'window', u'key', u'arm', u'bicycle', u'chair', u'hammer',\n",
       "       u'spoon', u'igloo', u'horse', u'beetle', u'coat', u'cup', u'corn',\n",
       "       u'bottle', u'apartment', u'church', u'bell', u'ant', u'butterfly',\n",
       "       u'dress', u'car', u'hand', u'tomato', u'knife', u'bed', u'watch',\n",
       "       u'saw', u'eye', u'bee', u'glass', u'foot', u'arch', u'door', u'cow',\n",
       "       u'house', u'fly', u'bear', u'celery', u'carrot', u'truck', u'cat',\n",
       "       u'chimney', u'desk', u'skirt', u'train', u'dog', u'chisel', u'leg',\n",
       "       u'pliers', u'shirt', u'coat', u'cat', u'leg', u'dog', u'arm',\n",
       "       u'skirt', u'church', u'corn', u'table', u'bear', u'hammer',\n",
       "       u'refrigerator', u'lettuce', u'bed', u'hand', u'carrot', u'watch',\n",
       "       u'closet', u'car', u'bell', u'igloo', u'tomato', u'door',\n",
       "       u'screwdriver', u'foot', u'glass', u'eye', u'ant', u'desk',\n",
       "       u'dresser', u'horse', u'butterfly', u'cow', u'knife', u'train',\n",
       "       u'key', u'chisel', u'spoon', u'chair', u'arch', u'celery', u'truck',\n",
       "       u'house', u'bottle', u'bicycle', u'chimney', u'bee', u'airplane',\n",
       "       u'apartment', u'dress', u'pliers', u'window', u'cup', u'pants',\n",
       "       u'beetle', u'telephone', u'barn', u'shirt', u'fly', u'saw',\n",
       "       u'beetle', u'bottle', u'horse', u'window', u'shirt', u'cup',\n",
       "       u'lettuce', u'knife', u'fly', u'pants', u'cat', u'dresser', u'barn',\n",
       "       u'church', u'table', u'foot', u'desk', u'key', u'door', u'train',\n",
       "       u'bee', u'refrigerator', u'truck', u'hammer', u'tomato', u'dress',\n",
       "       u'butterfly', u'bear', u'car', u'celery', u'coat', u'glass',\n",
       "       u'corn', u'chair', u'bed', u'skirt', u'ant', u'carrot', u'chimney',\n",
       "       u'chisel', u'apartment', u'leg', u'bell', u'hand', u'pliers',\n",
       "       u'eye', u'dog', u'arm', u'igloo', u'spoon', u'telephone',\n",
       "       u'screwdriver', u'airplane', u'watch', u'arch', u'closet', u'house',\n",
       "       u'cow', u'saw', u'bicycle'], \n",
       "      dtype='<U12')"
      ]
     },
     "execution_count": 277,
     "metadata": {},
     "output_type": "execute_result"
    }
   ],
   "source": [
    "np.array([a[2][0] for a in mat[header[0]][0]])"
   ]
  },
  {
   "cell_type": "code",
   "execution_count": 327,
   "metadata": {
    "collapsed": false
   },
   "outputs": [
    {
     "data": {
      "text/plain": [
       "(1, 1303, 3)"
      ]
     },
     "execution_count": 327,
     "metadata": {},
     "output_type": "execute_result"
    }
   ],
   "source": [
    "loc[np.where(loc[:,2]==7),:].shape"
   ]
  }
 ],
 "metadata": {
  "kernelspec": {
   "display_name": "Python 2",
   "language": "python",
   "name": "python2"
  },
  "language_info": {
   "codemirror_mode": {
    "name": "ipython",
    "version": 2
   },
   "file_extension": ".py",
   "mimetype": "text/x-python",
   "name": "python",
   "nbconvert_exporter": "python",
   "pygments_lexer": "ipython2",
   "version": "2.7.10"
  }
 },
 "nbformat": 4,
 "nbformat_minor": 0
}
