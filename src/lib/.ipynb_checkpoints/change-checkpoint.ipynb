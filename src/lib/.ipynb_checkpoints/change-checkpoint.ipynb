{
 "cells": [
  {
   "cell_type": "code",
   "execution_count": 3,
   "metadata": {
    "collapsed": true
   },
   "outputs": [],
   "source": [
    "def z1(s,mu,k):\n",
    "    '''\n",
    "    gradient at mu for log normal\n",
    "    --s: numeric variable\n",
    "    --mu: numeric mu\n",
    "    --k: log of inverse sigma^2, precision \n",
    "    '''\n",
    "    return (s-mu)*np.exp(k)\n",
    "\n",
    "def z2(s,mu,k):\n",
    "    '''\n",
    "    gradient at k for log normal\n",
    "    --s: numeric variable\n",
    "    --mu: numeric mu\n",
    "    --k: inverse of log sigma, precision \n",
    "    '''\n",
    "    return 0.5 -0.5*((s-mu)**2)*np.exp(k)\n",
    "\n",
    "def gradient_log_q_w(sample, sub_sample_image_index, alpha_0):\n",
    "    '''\n",
    "    to write!\n",
    "    '''\n",
    "    w_n_k = sample['w_n_sub_k']\n",
    "    mu_n_k = alpha_0['mu_w_n_k']\n",
    "    k_w_n_k = alpha_0['k_w_n_k']\n",
    "    N_sub = len(sub_sample_image_index)\n",
    "    K = w_n_k.shape[1]\n",
    "    z1_array = np.zeros((N_sub, K))\n",
    "    z2_array = np.zeros((N_sub, K))\n",
    "    for sub_index, n in enumerate(sub_sample_image_index):\n",
    "        w = w_n_k[sub_index,:]\n",
    "        mu = mu_n_k[n,:]\n",
    "        k = k_w_n_k[n,:]\n",
    "        z1_array[sub_index,:] = [z1(w_i, mu_i, k_i) for (w_i, mu_i, k_i) in zip(w, mu, k)]\n",
    "        z2_array[sub_index,:] = [z2(w_i, mu_i, k_i) for (w_i, mu_i, k_i) in zip(w, mu, k)]\n",
    "    return (z1_array, z2_array)\n",
    "\n",
    "def gradient_log_q_mu(sample, alpha_0):\n",
    "    '''\n",
    "    to write!\n",
    "    '''\n",
    "    mu_k_d = sample['mu_k_d']\n",
    "    K = mu_k_d.shape[0]\n",
    "    D = mu_k_d.shape[1]\n",
    "    mu_mu_k_d = alpha_0['mu_mu_k'] \n",
    "    k_mu_k_d = alpha_0['k_mu_k']\n",
    "    z1_array = np.array([z1(mu_k_d_i, mu_mu_k_d_i, k_mu_k_d_i) for(mu_k_d_i, mu_mu_k_d_i, k_mu_k_d_i) in \n",
    "                         zip(mu_k_d.ravel(), k_mu_k_d.ravel(), k_mu_k_d.ravel())]).reshape(K,D)\n",
    "    z2_array = np.array([z2(mu_k_d_i, mu_mu_k_d_i, k_mu_k_d_i) for(mu_k_d_i, mu_mu_k_d_i, k_mu_k_d_i) in \n",
    "                         zip(mu_k_d.ravel(), k_mu_k_d.ravel(), k_mu_k_d.ravel())]).reshape(K,D)\n",
    "    return\n",
    "\n",
    "def gradient_log_q_lambda(sample, alpha_0):\n",
    "    '''\n",
    "    to write!\n",
    "    '''\n",
    "    lambda_k = sample['k_lambda']\n",
    "    mu_lambda_k = alpha['mu_lambda_k']\n",
    "    k_lambda_k = alpha_0['k_lambda_k']\n",
    "    z1_array = np.array([z1(l,mu,k) for (l,mu,k) in zip(lambda_k, mu_lambda_k, k_lambda_k])\n",
    "    z2_array = np.array([z1(l,mu,k) for (l,mu,k) in zip(lambda_k, mu_lambda_k, k_lambda_k])\n",
    "    return (z1_array, z2_array)                  "
   ]
  },
  {
   "cell_type": "code",
   "execution_count": 6,
   "metadata": {
    "collapsed": false
   },
   "outputs": [
    {
     "data": {
      "text/plain": [
       "array(22.5)"
      ]
     },
     "execution_count": 6,
     "metadata": {},
     "output_type": "execute_result"
    }
   ],
   "source": [
    "import numpy as np\n",
    "a = np.arange(15).reshape(5,3)\n",
    "b = np.arange(15).reshape(5,3)\n",
    "np.cov(a[:,2],b[])"
   ]
  }
 ],
 "metadata": {
  "kernelspec": {
   "display_name": "Python 2",
   "language": "python",
   "name": "python2"
  },
  "language_info": {
   "codemirror_mode": {
    "name": "ipython",
    "version": 2
   },
   "file_extension": ".py",
   "mimetype": "text/x-python",
   "name": "python",
   "nbconvert_exporter": "python",
   "pygments_lexer": "ipython2",
   "version": "2.7.10"
  }
 },
 "nbformat": 4,
 "nbformat_minor": 0
}
